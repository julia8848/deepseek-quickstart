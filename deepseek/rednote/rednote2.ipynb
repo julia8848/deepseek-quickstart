{
 "cells": [
  {
   "cell_type": "markdown",
   "id": "94448237",
   "metadata": {},
   "source": [
    "# DeepSeek Agent 实战：小红书爆款文案生成助手\n",
    "\n",
    "本 Notebook 将指导您如何使用 DeepSeek LLM 构建一个能够生成小红书爆款文案的智能 Agent。我们将从需求拆解开始，逐步定义 Agent 的系统提示词 (System Prompt)、外部工具 (Tools)，并实现其核心的工作流程，最终生成符合小红书平台特点的文案。"
   ]
  },
  {
   "cell_type": "markdown",
   "id": "8741042e",
   "metadata": {},
   "source": [
    "## 1. 环境准备与DeepSeek API配置"
   ]
  },
  {
   "cell_type": "code",
   "execution_count": 1,
   "id": "71f935e0",
   "metadata": {
    "ExecutionIndicator": {
     "show": true
    },
    "colab": {
     "base_uri": "https://localhost:8080/"
    },
    "execution": {
     "iopub.execute_input": "2025-07-19T02:45:04.118403Z",
     "iopub.status.busy": "2025-07-19T02:45:04.118159Z",
     "iopub.status.idle": "2025-07-19T02:45:04.629938Z",
     "shell.execute_reply": "2025-07-19T02:45:04.629313Z",
     "shell.execute_reply.started": "2025-07-19T02:45:04.118374Z"
    },
    "id": "1wW109tW7o_B",
    "outputId": "33918a20-f56f-4a0b-d24c-d40b90e0c036",
    "tags": []
   },
   "outputs": [],
   "source": [
    "import os\n",
    "from openai import OpenAI\n",
    "\n",
    "# 建议将 API Key 设置为环境变量，避免直接暴露在代码中\n",
    "# 从环境变量获取 DeepSeek API Key\n",
    "api_key = os.getenv(\"DASHSCOPE_API_KEY\")\n",
    "if not api_key:\n",
    "    raise ValueError(\"请设置 DASHSCOPE_API_KEY 环境变量\")\n",
    "\n",
    "# 初始化 DeepSeek 客户端\n",
    "\n",
    "dashscope_client = OpenAI(\n",
    "    api_key=api_key,\n",
    "    base_url=\"https://dashscope.aliyuncs.com/compatible-mode/v1\",\n",
    ")\n",
    "\n"
   ]
  },
  {
   "cell_type": "markdown",
   "id": "b1f76945",
   "metadata": {},
   "source": [
    "### 1.1 大模型及Embedding调用函数准备"
   ]
  },
  {
   "cell_type": "code",
   "execution_count": 2,
   "id": "309712c0",
   "metadata": {
    "execution": {
     "iopub.execute_input": "2025-07-19T02:45:04.633644Z",
     "iopub.status.busy": "2025-07-19T02:45:04.631136Z",
     "iopub.status.idle": "2025-07-19T02:45:04.638877Z",
     "shell.execute_reply": "2025-07-19T02:45:04.638126Z",
     "shell.execute_reply.started": "2025-07-19T02:45:04.633612Z"
    }
   },
   "outputs": [],
   "source": [
    "def ask_llm_with_tools(messages: list[dict], model: str = \"deepseek-v3\", tools: list[dict] = None):\n",
    "    \"\"\"\n",
    "    使用 LLM 模型，并指定可用的工具。\n",
    "    \"\"\"\n",
    "    response = dashscope_client.chat.completions.create(\n",
    "        model=model,\n",
    "        messages=messages,\n",
    "        tools=tools, # 告知模型可用的工具\n",
    "        tool_choice=\"auto\" # 允许模型自动决定是否使用工具\n",
    "    )\n",
    "    return response\n",
    "\n",
    "def embedding(texts: list[str], model: str = \"text-embedding-v4\"):\n",
    "    \"\"\"\n",
    "    使用 LLM 模型进行向量化。\n",
    "    \"\"\"\n",
    "    embeddings = dashscope_client.embeddings.create(\n",
    "        model=model,\n",
    "        input=texts,\n",
    "        dimensions=64, # 指定向量维度（仅 text-embedding-v3及 text-embedding-v4支持该参数）\n",
    "        encoding_format=\"float\"\n",
    "    )\n",
    "    return embeddings"
   ]
  },
  {
   "cell_type": "markdown",
   "id": "3d434f0f",
   "metadata": {},
   "source": [
    "### 1.2 产品数据库 DashVector 创建及数据转变"
   ]
  },
  {
   "cell_type": "code",
   "execution_count": 3,
   "id": "707d55ec-a3c9-4083-a6fe-58298096e28f",
   "metadata": {
    "execution": {
     "iopub.execute_input": "2025-07-19T02:45:04.639778Z",
     "iopub.status.busy": "2025-07-19T02:45:04.639505Z",
     "iopub.status.idle": "2025-07-19T02:45:05.879245Z",
     "shell.execute_reply": "2025-07-19T02:45:05.878340Z",
     "shell.execute_reply.started": "2025-07-19T02:45:04.639751Z"
    },
    "tags": []
   },
   "outputs": [
    {
     "name": "stdout",
     "output_type": "stream",
     "text": [
      "Looking in indexes: https://mirrors.aliyun.com/pypi/simple/\n",
      "Requirement already satisfied: dashvector in /usr/local/lib/python3.11/site-packages (1.0.20)\n",
      "Requirement already satisfied: aiohttp<4.0.0,>=3.1.0 in /usr/local/lib/python3.11/site-packages (from dashvector) (3.12.13)\n",
      "Requirement already satisfied: certifi<2024.0.0,>=2023.7.22 in /usr/local/lib/python3.11/site-packages (from dashvector) (2023.11.17)\n",
      "Requirement already satisfied: grpcio>=1.49.1 in /usr/local/lib/python3.11/site-packages (from dashvector) (1.67.1)\n",
      "Requirement already satisfied: importlib_metadata in /usr/local/lib/python3.11/site-packages (from dashvector) (8.0.0)\n",
      "Requirement already satisfied: numpy in /usr/local/lib/python3.11/site-packages (from dashvector) (1.26.4)\n",
      "Requirement already satisfied: protobuf<4.0.0,>=3.8.0 in /usr/local/lib/python3.11/site-packages (from dashvector) (3.20.3)\n",
      "Requirement already satisfied: aiohappyeyeballs>=2.5.0 in /usr/local/lib/python3.11/site-packages (from aiohttp<4.0.0,>=3.1.0->dashvector) (2.6.1)\n",
      "Requirement already satisfied: aiosignal>=1.1.2 in /usr/local/lib/python3.11/site-packages (from aiohttp<4.0.0,>=3.1.0->dashvector) (1.4.0)\n",
      "Requirement already satisfied: attrs>=17.3.0 in /usr/local/lib/python3.11/site-packages (from aiohttp<4.0.0,>=3.1.0->dashvector) (25.3.0)\n",
      "Requirement already satisfied: frozenlist>=1.1.1 in /usr/local/lib/python3.11/site-packages (from aiohttp<4.0.0,>=3.1.0->dashvector) (1.7.0)\n",
      "Requirement already satisfied: multidict<7.0,>=4.5 in /usr/local/lib/python3.11/site-packages (from aiohttp<4.0.0,>=3.1.0->dashvector) (6.6.3)\n",
      "Requirement already satisfied: propcache>=0.2.0 in /usr/local/lib/python3.11/site-packages (from aiohttp<4.0.0,>=3.1.0->dashvector) (0.3.2)\n",
      "Requirement already satisfied: yarl<2.0,>=1.17.0 in /usr/local/lib/python3.11/site-packages (from aiohttp<4.0.0,>=3.1.0->dashvector) (1.20.1)\n",
      "Requirement already satisfied: idna>=2.0 in /usr/local/lib/python3.11/site-packages (from yarl<2.0,>=1.17.0->aiohttp<4.0.0,>=3.1.0->dashvector) (3.10)\n",
      "Requirement already satisfied: typing-extensions>=4.2 in /usr/local/lib/python3.11/site-packages (from aiosignal>=1.1.2->aiohttp<4.0.0,>=3.1.0->dashvector) (4.14.0)\n",
      "Requirement already satisfied: zipp>=0.5 in /usr/local/lib/python3.11/site-packages (from importlib_metadata->dashvector) (3.23.0)\n",
      "\u001b[33mWARNING: Running pip as the 'root' user can result in broken permissions and conflicting behaviour with the system package manager, possibly rendering your system unusable. It is recommended to use a virtual environment instead: https://pip.pypa.io/warnings/venv. Use the --root-user-action option if you know what you are doing and want to suppress this warning.\u001b[0m\u001b[33m\n",
      "\u001b[0m"
     ]
    }
   ],
   "source": [
    "!pip install dashvector"
   ]
  },
  {
   "cell_type": "code",
   "execution_count": 4,
   "id": "b9aacfad",
   "metadata": {
    "execution": {
     "iopub.execute_input": "2025-07-19T02:45:05.880584Z",
     "iopub.status.busy": "2025-07-19T02:45:05.880263Z",
     "iopub.status.idle": "2025-07-19T02:45:06.051875Z",
     "shell.execute_reply": "2025-07-19T02:45:06.051266Z",
     "shell.execute_reply.started": "2025-07-19T02:45:05.880549Z"
    }
   },
   "outputs": [],
   "source": [
    "import dashvector, os\n",
    "if \"DASHVECTOR_API_KEY\" not in os.environ:\n",
    "    raise ValueError(\"DASHVECTOR_API_KEY environment variable not set\")\n",
    "DASHVECTOR_API_KEY = os.environ[\"DASHVECTOR_API_KEY\"]\n",
    "if \"DASHVECTOR_ENDPOINT\" not in os.environ:\n",
    "    raise ValueError(\"DASHVECTOR_ENDPOINT environment variable not set\")\n",
    "DASHVECTOR_ENDPOINT = os.environ[\"DASHVECTOR_ENDPOINT\"]\n",
    "\n",
    "def search_dashvector(query_text: str, topk: int=3) -> str:\n",
    "    vector_client = dashvector.Client(\n",
    "        api_key=DASHVECTOR_API_KEY,\n",
    "        endpoint=DASHVECTOR_ENDPOINT\n",
    "    )\n",
    "    query_embeddings = embedding([query_text])\n",
    "    query_vector = query_embeddings.data[0].embedding\n",
    "    collection = vector_client.get('skincare')\n",
    "    search_results = collection.query(\n",
    "        vector=query_vector,\n",
    "        topk=topk\n",
    "    )\n",
    "    print(\"\\n\" + \"=\" * 20 + \"RAG检索结果\" + \"=\" * 20 + \"\\n\")\n",
    "    for doc in search_results:\n",
    "        print(doc)\n",
    "    return search_results\n"
   ]
  },
  {
   "cell_type": "markdown",
   "id": "6ae94d9a",
   "metadata": {},
   "source": [
    "### 1.3 Tools (工具定义)\n",
    "\n",
    "Agent 的“双手”由一系列可调用的工具组成。这些工具扩展了 LLM 的能力，使其能够获取实时信息、查询数据库或执行特定操作。在这里，我们定义了三个核心工具：\n",
    "\n",
    "*   `search_web`: 用于搜索互联网上的实时信息，如最新趋势、用户评价等。\n",
    "*   `query_product_database`: 用于查询产品数据库，获取产品的详细卖点和特点。**此工具为模拟**。\n",
    "*   `generate_emoji`: 用于根据文案内容生成恰当的表情符号。**此工具为模拟**。"
   ]
  },
  {
   "cell_type": "code",
   "execution_count": 5,
   "id": "c4f710f1-9d44-4047-8002-94f772aa8d69",
   "metadata": {
    "ExecutionIndicator": {
     "show": true
    },
    "execution": {
     "iopub.execute_input": "2025-07-19T02:45:06.053004Z",
     "iopub.status.busy": "2025-07-19T02:45:06.052620Z",
     "iopub.status.idle": "2025-07-19T02:45:07.279984Z",
     "shell.execute_reply": "2025-07-19T02:45:07.279263Z",
     "shell.execute_reply.started": "2025-07-19T02:45:06.052974Z"
    },
    "tags": []
   },
   "outputs": [
    {
     "name": "stdout",
     "output_type": "stream",
     "text": [
      "Looking in indexes: https://mirrors.aliyun.com/pypi/simple/\n",
      "Requirement already satisfied: tavily-python in /usr/local/lib/python3.11/site-packages (0.7.10)\n",
      "Requirement already satisfied: requests in /usr/local/lib/python3.11/site-packages (from tavily-python) (2.32.3)\n",
      "Requirement already satisfied: tiktoken>=0.5.1 in /usr/local/lib/python3.11/site-packages (from tavily-python) (0.9.0)\n",
      "Requirement already satisfied: httpx in /usr/local/lib/python3.11/site-packages (from tavily-python) (0.28.1)\n",
      "Requirement already satisfied: regex>=2022.1.18 in /usr/local/lib/python3.11/site-packages (from tiktoken>=0.5.1->tavily-python) (2024.11.6)\n",
      "Requirement already satisfied: charset-normalizer<4,>=2 in /usr/local/lib/python3.11/site-packages (from requests->tavily-python) (3.4.2)\n",
      "Requirement already satisfied: idna<4,>=2.5 in /usr/local/lib/python3.11/site-packages (from requests->tavily-python) (3.10)\n",
      "Requirement already satisfied: urllib3<3,>=1.21.1 in /usr/local/lib/python3.11/site-packages (from requests->tavily-python) (2.5.0)\n",
      "Requirement already satisfied: certifi>=2017.4.17 in /usr/local/lib/python3.11/site-packages (from requests->tavily-python) (2023.11.17)\n",
      "Requirement already satisfied: anyio in /usr/local/lib/python3.11/site-packages (from httpx->tavily-python) (4.9.0)\n",
      "Requirement already satisfied: httpcore==1.* in /usr/local/lib/python3.11/site-packages (from httpx->tavily-python) (1.0.9)\n",
      "Requirement already satisfied: h11>=0.16 in /usr/local/lib/python3.11/site-packages (from httpcore==1.*->httpx->tavily-python) (0.16.0)\n",
      "Requirement already satisfied: sniffio>=1.1 in /usr/local/lib/python3.11/site-packages (from anyio->httpx->tavily-python) (1.3.1)\n",
      "Requirement already satisfied: typing_extensions>=4.5 in /usr/local/lib/python3.11/site-packages (from anyio->httpx->tavily-python) (4.14.0)\n",
      "\u001b[33mWARNING: Running pip as the 'root' user can result in broken permissions and conflicting behaviour with the system package manager, possibly rendering your system unusable. It is recommended to use a virtual environment instead: https://pip.pypa.io/warnings/venv. Use the --root-user-action option if you know what you are doing and want to suppress this warning.\u001b[0m\u001b[33m\n",
      "\u001b[0m"
     ]
    }
   ],
   "source": [
    "!pip install tavily-python"
   ]
  },
  {
   "cell_type": "code",
   "execution_count": 6,
   "id": "5841c941",
   "metadata": {
    "execution": {
     "iopub.execute_input": "2025-07-19T02:45:07.281223Z",
     "iopub.status.busy": "2025-07-19T02:45:07.280918Z",
     "iopub.status.idle": "2025-07-19T02:45:09.147460Z",
     "shell.execute_reply": "2025-07-19T02:45:09.146605Z",
     "shell.execute_reply.started": "2025-07-19T02:45:07.281186Z"
    }
   },
   "outputs": [
    {
     "name": "stdout",
     "output_type": "stream",
     "text": [
      "Searching the web for: 杏仁酸头皮调理液\n",
      "\n",
      "====================Web搜索结果====================\n",
      "\n",
      "{\n",
      "    \"query\": \"杏仁酸头皮调理液\",\n",
      "    \"follow_up_questions\": null,\n",
      "    \"answer\": null,\n",
      "    \"images\": [],\n",
      "    \"results\": [\n",
      "        {\n",
      "            \"url\": \"https://www.dr-hsieh.com/blogs/%E6%9C%80%E6%96%B0%E6%B6%88%E6%81%AF/114160?srsltid=AfmBOoqgFV2DgItxxWZ8lKYO2Kk26egW9Ob-jW064pGIxZVpUT5AdHi2\",\n",
      "            \"title\": \"頭皮護理不夠看！獻上新頭皮保養「杏仁酸控油調理洗髮精 ... - Dr.Hsieh\",\n",
      "            \"content\": \"使用含有高濃度杏仁酸精華，有效深層滲透頭皮毛孔，輔助頭皮清潔和幫助頭部去角質的作用，另外抗菌功效，還能通暢頭皮毛孔阻塞，讓塞住的頭皮毛囊炎恢復健康。\",\n",
      "            \"score\": 0.56258565,\n",
      "            \"raw_content\": null\n",
      "        },\n",
      "        {\n",
      "            \"url\": \"https://shopee.tw/%E2%9D%A4%EF%B8%8Farin-%E6%B0%A7%E6%BD%A4-%E9%85%B7%E6%A8%82%E9%A0%AD%E7%9A%AE%E6%AD%A2%E7%99%A2%E6%B6%B2-%E9%AB%98%E6%95%88%E6%8E%A7%E6%B2%B9-%E9%A0%AD%E7%9A%AE%E8%AA%BF%E7%90%86%E6%B6%B210-%E6%9D%8F%E4%BB%81%E9%85%B8%E7%85%A5%E8%86%9A%E7%B2%BE%E8%8F%AF-30ml-i.17068797.4240679022\",\n",
      "            \"title\": \"arin 氧潤酷樂頭皮止癢液高效控油頭皮調理液10%杏仁酸煥膚精華 ...\",\n",
      "            \"content\": \"氧潤10%杏仁酸煥膚精華30ml. 有效期限2023.03. ♥arin氧潤酷樂頭皮止癢液60ml. 總效期：2022/12/26. 產地：台灣. 成份：如圖片所示.\",\n",
      "            \"score\": 0.50388235,\n",
      "            \"raw_content\": null\n",
      "        }\n",
      "    ],\n",
      "    \"response_time\": 0.79\n",
      "}\n"
     ]
    }
   ],
   "source": [
    "import os,json\n",
    "from tavily import TavilyClient\n",
    "if \"TAVILY_API_KEY\" not in os.environ:\n",
    "    raise ValueError(\"TAVILY_API_KEY environment variable is not set.\")\n",
    "TAVILY_API_KEY = os.environ['TAVILY_API_KEY']\n",
    "tavily_client = TavilyClient(api_key=TAVILY_API_KEY)\n",
    "\n",
    "def search_web(query: str) -> str:\n",
    "    \"\"\"\n",
    "    Search the web for a query and return the first result.\n",
    "    \"\"\"\n",
    "    print(\"Searching the web for:\", query)\n",
    "    response = tavily_client.search(query, max_results=2)\n",
    "    print(\"\\n\" + \"=\" * 20 + \"Web搜索结果\" + \"=\" * 20 + \"\\n\")\n",
    "    print(json.dumps(response, indent=4, ensure_ascii=False))\n",
    "    return response\n",
    "\n",
    "search_restults = search_web(\"杏仁酸头皮调理液\")"
   ]
  },
  {
   "cell_type": "code",
   "execution_count": 7,
   "id": "aff7ca0e",
   "metadata": {
    "execution": {
     "iopub.execute_input": "2025-07-19T02:45:09.149368Z",
     "iopub.status.busy": "2025-07-19T02:45:09.149162Z",
     "iopub.status.idle": "2025-07-19T02:45:10.299702Z",
     "shell.execute_reply": "2025-07-19T02:45:10.299038Z",
     "shell.execute_reply.started": "2025-07-19T02:45:09.149334Z"
    }
   },
   "outputs": [
    {
     "name": "stdout",
     "output_type": "stream",
     "text": [
      "\n",
      "====================RAG检索结果====================\n",
      "\n",
      "{\"id\": \"49\", \"fields\": {\"name\": \"杏仁酸头皮调理液\", \"description\": \"1.5%杏仁酸调节毛囊口角质，减少头屑生成并蓬松发根\", \"text\": \"名称：杏仁酸头皮调理液，描述：1.5%杏仁酸调节毛囊口角质，减少头屑生成并蓬松发根，类别：头皮护理\", \"category\": \"头皮护理\"}, \"score\": 0.0}\n",
      "{\"id\": \"28\", \"fields\": {\"name\": \"艾地苯抗氧精华\", \"description\": \"0.5%艾地苯醌醌复合麦角硫因，中和多种自由基伤害，防护环境污染损伤\", \"text\": \"名称：艾地苯抗氧精华，描述：0.5%艾地苯醌醌复合麦角硫因，中和多种自由基伤害，防护环境污染损伤，类别：精华\", \"category\": \"精华\"}, \"score\": 0.3049}\n",
      "{\"id\": \"34\", \"fields\": {\"name\": \"玻尿酸导入面膜贴\", \"description\": \"双分子玻尿酸梯度渗透，微压膜布促进活性物传输，即时改善缺水细纹\", \"text\": \"名称：玻尿酸导入面膜贴，描述：双分子玻尿酸梯度渗透，微压膜布促进活性物传输，即时改善缺水细纹，类别：面膜\", \"category\": \"面膜\"}, \"score\": 0.3157}\n"
     ]
    },
    {
     "data": {
      "text/plain": [
       "'名称：杏仁酸头皮调理液，描述：1.5%杏仁酸调节毛囊口角质，减少头屑生成并蓬松发根，类别：头皮护理'"
      ]
     },
     "execution_count": 7,
     "metadata": {},
     "output_type": "execute_result"
    }
   ],
   "source": [
    "def query_product_database(product_name: str) -> str:\n",
    "    \"\"\"查询产品数据库，返回产品信息。\"\"\"\n",
    "    ret = search_dashvector(product_name)\n",
    "    product_info = ret[0].fields[\"text\"]\n",
    "    return product_info\n",
    "\n",
    "query_product_database(\"杏仁酸头皮调理液\")"
   ]
  },
  {
   "cell_type": "code",
   "execution_count": 8,
   "id": "427ebfc6",
   "metadata": {
    "execution": {
     "iopub.execute_input": "2025-07-19T02:45:10.300800Z",
     "iopub.status.busy": "2025-07-19T02:45:10.300481Z",
     "iopub.status.idle": "2025-07-19T02:45:10.305819Z",
     "shell.execute_reply": "2025-07-19T02:45:10.305041Z",
     "shell.execute_reply.started": "2025-07-19T02:45:10.300770Z"
    }
   },
   "outputs": [],
   "source": [
    "def generate_emoji(context: str):\n",
    "    sys_message = \"\"\"\n",
    "    你是一个emoji生成器，你需要根据输入的文本生成5个emoji符号，并返回一个以逗号分隔的emoji符号列表。\n",
    "    格式如下：[\"🌟\", \"😲\", \"💖\", \"✨\", \"👍\"]\n",
    "    \"\"\"\n",
    "    messages = [\n",
    "        {\"role\": \"system\", \"content\": sys_message},\n",
    "        {\"role\": \"user\", \"content\": context}\n",
    "    ]\n",
    "    response = ask_llm_with_tools(messages)\n",
    "    return response.choices[0].message.content\n"
   ]
  },
  {
   "cell_type": "markdown",
   "id": "63b627ff-7b75-4c52-b60b-f7f2e88f9b14",
   "metadata": {},
   "source": [
    "## 2. 小红书内容生成system message, user message以及可用工具定义"
   ]
  },
  {
   "cell_type": "markdown",
   "id": "6e8475ea-7a68-4cbe-9528-e6fed72458e7",
   "metadata": {},
   "source": [
    "### 2.1 System message准备"
   ]
  },
  {
   "cell_type": "code",
   "execution_count": 9,
   "id": "03cc536c",
   "metadata": {
    "colab": {
     "base_uri": "https://localhost:8080/"
    },
    "execution": {
     "iopub.execute_input": "2025-07-19T02:45:10.306700Z",
     "iopub.status.busy": "2025-07-19T02:45:10.306439Z",
     "iopub.status.idle": "2025-07-19T02:45:10.313322Z",
     "shell.execute_reply": "2025-07-19T02:45:10.312686Z",
     "shell.execute_reply.started": "2025-07-19T02:45:10.306674Z"
    },
    "id": "u43g-b3K7o_C",
    "outputId": "f784d156-f6d8-4f10-db0e-749e7b2ff922",
    "tags": []
   },
   "outputs": [],
   "source": [
    "SYSTEM_PROMPT = \"\"\"\n",
    "你是一个资深的小红书爆款文案专家，擅长结合最新潮流和产品卖点，创作引人入胜、高互动、高转化的笔记文案。\n",
    "\n",
    "你的任务是根据用户提供的产品和需求，生成包含标题、正文、相关标签和表情符号的完整小红书笔记。\n",
    "\n",
    "请始终采用'Thought-Action-Observation'模式进行推理和行动。文案风格需活泼、真诚、富有感染力。当完成任务后，请以JSON格式直接输出最终文案，格式如下：\n",
    "```json\n",
    "{\n",
    "  \"title\": \"💧深海蓝藻保湿面膜｜干皮救星！敷完水嫩到发光✨\",\n",
    "  \"body\": \"姐妹们！发现了一款神仙面膜！就是这个【深海蓝藻保湿面膜】！😍\\n\\n最近换季皮肤干到爆炸，连粉底都卡纹...偶然用了这款面膜，真的被惊艳到了！敷上去凉凉的超级舒服，精华液超级多但一点都不黏腻～\\n\\n✨主打深海蓝藻提取物，补水锁水能力绝了！敷完脸就像喝饱水一样，嫩到反光！而且超级温和，敏感肌也能用～\\n\\n我一般一周敷2-3次，现在皮肤状态超级稳定，上妆都服帖多了！绝对是干皮/混干皮的年度爱用！\\n\\nPS：冬天可以先用温水泡一下再敷，更舒服哦～\",\n",
    "  \"hashtags\": [\"#保湿面膜\", \"#干皮救星\", \"#深海蓝藻\", \"#换季护肤\", \"#敏感肌友好\"],\n",
    "  \"emojis\": [\"💧\", \"😍\", \"✨\", \"🌿\", \"🎁\"]\n",
    "}\n",
    "```\n",
    "在生成文案前，请务必先思考并收集足够的信息。\n",
    "\"\"\""
   ]
  },
  {
   "cell_type": "markdown",
   "id": "4b2e545a-9e48-4563-82bd-0445fc85fdfa",
   "metadata": {},
   "source": [
    "### 2.2 工具定义"
   ]
  },
  {
   "cell_type": "code",
   "execution_count": 10,
   "id": "bac4bac1",
   "metadata": {
    "execution": {
     "iopub.execute_input": "2025-07-19T02:45:10.314463Z",
     "iopub.status.busy": "2025-07-19T02:45:10.314182Z",
     "iopub.status.idle": "2025-07-19T02:45:10.321934Z",
     "shell.execute_reply": "2025-07-19T02:45:10.320532Z",
     "shell.execute_reply.started": "2025-07-19T02:45:10.314436Z"
    }
   },
   "outputs": [],
   "source": [
    "TOOLS_DEFINITION = [\n",
    "    {\n",
    "        \"type\": \"function\",\n",
    "        \"function\": {\n",
    "            \"name\": \"search_web\",\n",
    "            \"description\": \"搜索互联网上的实时信息，用于获取最新新闻、流行趋势、用户评价、行业报告等。请确保搜索关键词精确，避免宽泛的查询。\",\n",
    "            \"parameters\": {\n",
    "                \"type\": \"object\",\n",
    "                \"properties\": {\n",
    "                    \"query\": {\n",
    "                        \"type\": \"string\",\n",
    "                        \"description\": \"要搜索的关键词或问题，例如'最新小红书美妆趋势'或'深海蓝藻保湿面膜 用户评价'\"\n",
    "                    }\n",
    "                },\n",
    "                \"required\": [\"query\"]\n",
    "            }\n",
    "        }\n",
    "    },\n",
    "    {\n",
    "        \"type\": \"function\",\n",
    "        \"function\": {\n",
    "            \"name\": \"query_product_database\",\n",
    "            \"description\": \"查询内部产品数据库，获取指定产品的详细卖点、成分、适用人群、使用方法等信息。\",\n",
    "            \"parameters\": {\n",
    "                \"type\": \"object\",\n",
    "                \"properties\": {\n",
    "                    \"product_name\": {\n",
    "                        \"type\": \"string\",\n",
    "                        \"description\": \"要查询的产品名称，例如'深海蓝藻保湿面膜'\"\n",
    "                    }\n",
    "                },\n",
    "                \"required\": [\"product_name\"]\n",
    "            }\n",
    "        }\n",
    "    },\n",
    "    {\n",
    "        \"type\": \"function\",\n",
    "        \"function\": {\n",
    "            \"name\": \"generate_emoji\",\n",
    "            \"description\": \"根据提供的文本内容，生成一组适合小红书风格的表情符号。\",\n",
    "            \"parameters\": {\n",
    "                \"type\": \"object\",\n",
    "                \"properties\": {\n",
    "                    \"context\": {\n",
    "                        \"type\": \"string\",\n",
    "                        \"description\": \"文案的关键内容或情感，例如'惊喜效果'、'补水保湿'\"\n",
    "                    }\n",
    "                },\n",
    "                \"required\": [\"context\"]\n",
    "            }\n",
    "        }\n",
    "    }\n",
    "]"
   ]
  },
  {
   "cell_type": "code",
   "execution_count": 11,
   "id": "b4aed628",
   "metadata": {
    "colab": {
     "base_uri": "https://localhost:8080/"
    },
    "execution": {
     "iopub.execute_input": "2025-07-19T02:45:10.322757Z",
     "iopub.status.busy": "2025-07-19T02:45:10.322499Z",
     "iopub.status.idle": "2025-07-19T02:45:10.326088Z",
     "shell.execute_reply": "2025-07-19T02:45:10.325367Z",
     "shell.execute_reply.started": "2025-07-19T02:45:10.322733Z"
    },
    "id": "JtD1t6kI7o_D",
    "outputId": "912a7d78-b119-482a-e9dd-0a56821213fb",
    "tags": []
   },
   "outputs": [],
   "source": [
    "# 将模拟工具函数映射到一个字典，方便通过名称调用\n",
    "available_tools = {\n",
    "    \"search_web\": search_web,\n",
    "    \"query_product_database\": query_product_database,\n",
    "    \"generate_emoji\": generate_emoji,\n",
    "}"
   ]
  },
  {
   "cell_type": "markdown",
   "id": "9f6ee7f8",
   "metadata": {},
   "source": [
    "## 3. 构建小红书文案生成 Agent\n",
    "\n",
    "现在，我们将把 System Prompt、工具定义和模拟工具函数整合起来，构建出能够自动执行的 DeepSeek Agent 工作流。核心是 `generate_rednote` 函数，它通过一个循环来模拟 Agent 的 `Thought-Action-Observation` 过程。"
   ]
  },
  {
   "cell_type": "code",
   "execution_count": 12,
   "id": "3ab71306",
   "metadata": {
    "ExecutionIndicator": {
     "show": true
    },
    "colab": {
     "base_uri": "https://localhost:8080/"
    },
    "execution": {
     "iopub.execute_input": "2025-07-19T02:45:10.327016Z",
     "iopub.status.busy": "2025-07-19T02:45:10.326772Z",
     "iopub.status.idle": "2025-07-19T02:45:10.343229Z",
     "shell.execute_reply": "2025-07-19T02:45:10.342607Z",
     "shell.execute_reply.started": "2025-07-19T02:45:10.326991Z"
    },
    "id": "hBfK-n8g7o_E",
    "outputId": "d0473922-8356-42d4-bb6e-77d70459c5d1",
    "tags": []
   },
   "outputs": [],
   "source": [
    "import json\n",
    "import re\n",
    "\n",
    "\n",
    "def generate_rednote(product_name: str, tone_style: str = \"活泼甜美\", max_iterations: int = 5) -> str:\n",
    "    \"\"\"\n",
    "    使用 DeepSeek Agent 生成小红书爆款文案。\n",
    "\n",
    "    Args:\n",
    "        product_name (str): 要生成文案的产品名称。\n",
    "        tone_style (str): 文案的语气和风格，如\"活泼甜美\"、\"知性\"、\"搞怪\"等。\n",
    "        max_iterations (int): Agent 最大迭代次数，防止无限循环。\n",
    "\n",
    "    Returns:\n",
    "        str: 生成的爆款文案（JSON 格式字符串）。\n",
    "    \"\"\"\n",
    "\n",
    "    print(f\"\\n🚀 启动小红书文案生成助手，产品：{product_name}，风格：{tone_style}\\n\")\n",
    "\n",
    "    # 存储对话历史，包括系统提示词和用户请求\n",
    "    messages = [\n",
    "        {\"role\": \"system\", \"content\": SYSTEM_PROMPT},\n",
    "        {\"role\": \"user\", \"content\": f\"请为产品「{product_name}」生成一篇小红书爆款文案。要求：语气{tone_style}，包含标题、正文、至少5个相关标签和5个表情符号。请以完整的JSON格式输出，并确保JSON内容用markdown代码块包裹（例如：```json{{...}}```）。\"}\n",
    "    ]\n",
    "\n",
    "    iteration_count = 0\n",
    "    final_response = None\n",
    "\n",
    "    while iteration_count < max_iterations:\n",
    "        iteration_count += 1\n",
    "        print(f\"-- Iteration {iteration_count} --\")\n",
    "        \n",
    "        try:\n",
    "            # 调用 DeepSeek API，传入对话历史和工具定义\n",
    "            response = ask_llm_with_tools(messages, model=\"deepseek-v3\", tools=TOOLS_DEFINITION)\n",
    "            response_message = response.choices[0].message\n",
    "            \n",
    "            # **ReAct模式：处理工具调用**\n",
    "            if response_message.tool_calls: # 如果模型决定调用工具\n",
    "                print(\"Agent: 决定调用工具...\")\n",
    "                messages.append(response_message) # 将工具调用信息添加到对话历史\n",
    "                \n",
    "                tool_outputs = []\n",
    "                for tool_call in response_message.tool_calls:\n",
    "                    function_name = tool_call.function.name\n",
    "                    # 确保参数是合法的JSON字符串，即使工具不要求参数，也需要传递空字典\n",
    "                    function_args = json.loads(tool_call.function.arguments) if tool_call.function.arguments else {}\n",
    "\n",
    "                    print(f\"Agent Action: 调用工具 '{function_name}'，参数：{function_args}\")\n",
    "                    \n",
    "                    # 查找并执行对应的模拟工具函数\n",
    "                    if function_name in available_tools:\n",
    "                        tool_function = available_tools[function_name]\n",
    "                        tool_result = tool_function(**function_args)\n",
    "                        print(f\"Observation: 工具返回结果：{tool_result}\")\n",
    "                        tool_outputs.append({\n",
    "                            \"tool_call_id\": tool_call.id,\n",
    "                            \"role\": \"tool\",\n",
    "                            \"content\": str(tool_result) # 工具结果作为字符串返回\n",
    "                        })\n",
    "                    else:\n",
    "                        error_message = f\"错误：未知的工具 '{function_name}'\"\n",
    "                        print(error_message)\n",
    "                        tool_outputs.append({\n",
    "                            \"tool_call_id\": tool_call.id,\n",
    "                            \"role\": \"tool\",\n",
    "                            \"content\": error_message\n",
    "                        })\n",
    "                messages.extend(tool_outputs) # 将工具执行结果作为 Observation 添加到对话历史\n",
    "                \n",
    "            # **ReAct 模式：处理最终内容**\n",
    "            elif response_message.content: # 如果模型直接返回内容（通常是最终答案）\n",
    "                print(f\"[模型生成结果] {response_message.content}\")\n",
    "                \n",
    "                # --- START: 添加 JSON 提取和解析逻辑 ---\n",
    "                json_string_match = re.search(r\"```json\\s*(\\{.*\\})\\s*```\", response_message.content, re.DOTALL)\n",
    "                \n",
    "                if json_string_match:\n",
    "                    extracted_json_content = json_string_match.group(1)\n",
    "                    try:\n",
    "                        final_response = json.loads(extracted_json_content)\n",
    "                        print(\"Agent: 任务完成，成功解析最终JSON文案。\")\n",
    "                        # return json.dumps(final_response, ensure_ascii=False, indent=2)\n",
    "                        return json.dumps(final_response, ensure_ascii=False, indent=2, separators=(',', ': '))\n",
    "                    except json.JSONDecodeError as e:\n",
    "                        print(f\"Agent: 提取到JSON块但解析失败: {e}\")\n",
    "                        print(f\"尝试解析的字符串:\\n{extracted_json_content}\")\n",
    "                        messages.append(response_message) # 解析失败，继续对话\n",
    "                else:\n",
    "                    # 如果没有匹配到 ```json 块，尝试直接解析整个 content\n",
    "                    try:\n",
    "                        final_response = json.loads(response_message.content)\n",
    "                        print(\"Agent: 任务完成，直接解析最终JSON文案。\")\n",
    "                        return json.dumps(final_response, ensure_ascii=False, indent=2)\n",
    "                    except json.JSONDecodeError:\n",
    "                        print(\"Agent: 生成了非JSON格式内容或非Markdown JSON块，可能还在思考或出错。\")\n",
    "                        messages.append(response_message) # 非JSON格式，继续对话\n",
    "                # --- END: 添加 JSON 提取和解析逻辑 ---\n",
    "            else:\n",
    "                print(\"Agent: 未知响应，可能需要更多交互。\")\n",
    "                break\n",
    "                \n",
    "        except Exception as e:\n",
    "            print(f\"调用 DeepSeek API 时发生错误: {e}\")\n",
    "            break\n",
    "    \n",
    "    print(\"\\n⚠️ Agent 达到最大迭代次数或未能生成最终文案。请检查Prompt或增加迭代次数。\")\n",
    "    return \"未能成功生成文案。\""
   ]
  },
  {
   "cell_type": "markdown",
   "id": "876cd63c",
   "metadata": {},
   "source": [
    "## 4. 实际测试与文案生成\n",
    "\n",
    "现在，让我们调用我们构建的 `generate_rednote` 函数，看看它能生成什么样的爆款文案！"
   ]
  },
  {
   "cell_type": "code",
   "execution_count": 20,
   "id": "9ebcda27",
   "metadata": {
    "colab": {
     "base_uri": "https://localhost:8080/",
     "height": 551
    },
    "execution": {
     "iopub.execute_input": "2025-07-19T02:46:46.946154Z",
     "iopub.status.busy": "2025-07-19T02:46:46.945845Z",
     "iopub.status.idle": "2025-07-19T02:47:08.921068Z",
     "shell.execute_reply": "2025-07-19T02:47:08.920230Z",
     "shell.execute_reply.started": "2025-07-19T02:46:46.946120Z"
    },
    "id": "UeJ79zLw7o_F",
    "outputId": "344c2075-8e2b-426b-871c-323b72350ef9",
    "tags": []
   },
   "outputs": [
    {
     "name": "stdout",
     "output_type": "stream",
     "text": [
      "\n",
      "🚀 启动小红书文案生成助手，产品：深海蓝藻保湿面膜，风格：活泼甜美\n",
      "\n",
      "-- Iteration 1 --\n",
      "Agent: 决定调用工具...\n",
      "Agent Action: 调用工具 'query_product_database'，参数：{'product_name': '深海蓝藻保湿面膜'}\n",
      "\n",
      "====================RAG检索结果====================\n",
      "\n",
      "{\"id\": \"5\", \"fields\": {\"name\": \"深海微藻防晒乳\", \"description\": \"SPF50+ PA++++全波段防护体系，复配深海藻类提取物中和光老化损伤，轻薄质地不堵塞毛孔\", \"text\": \"名称：深海微藻防晒乳，描述：SPF50+ PA++++全波段防护体系，复配深海藻类提取物中和光老化损伤，轻薄质地不堵塞毛孔，类别：防晒\", \"category\": \"防晒\"}, \"score\": 0.2367}\n",
      "{\"id\": \"21\", \"fields\": {\"name\": \"酵母发酵修护原液\", \"description\": \"清酒酒粕发酵滤液含丰富小分子肽，调节角质代谢节奏，重建健康表皮微生态\", \"text\": \"名称：酵母发酵修护原液，描述：清酒酒粕发酵滤液含丰富小分子肽，调节角质代谢节奏，重建健康表皮微生态，类别：精华\", \"category\": \"精华\"}, \"score\": 0.319}\n",
      "{\"id\": \"4\", \"fields\": {\"name\": \"烟酰胺净透美白精华\", \"description\": \"5%烟酰胺浓度配合AA2G衍生物，抑制黑色素小体转移，改善肤色不均及痘印沉淀问题\", \"text\": \"名称：烟酰胺净透美白精华，描述：5%烟酰胺浓度配合AA2G衍生物，抑制黑色素小体转移，改善肤色不均及痘印沉淀问题，类别：精华\", \"category\": \"精华\"}, \"score\": 0.3203}\n",
      "Observation: 工具返回结果：名称：深海微藻防晒乳，描述：SPF50+ PA++++全波段防护体系，复配深海藻类提取物中和光老化损伤，轻薄质地不堵塞毛孔，类别：防晒\n",
      "-- Iteration 2 --\n",
      "Agent: 决定调用工具...\n",
      "Agent Action: 调用工具 'search_web'，参数：{'query': '深海蓝藻保湿面膜 用户评价'}\n",
      "Searching the web for: 深海蓝藻保湿面膜 用户评价\n",
      "\n",
      "====================Web搜索结果====================\n",
      "\n",
      "{\n",
      "    \"query\": \"深海蓝藻保湿面膜 用户评价\",\n",
      "    \"follow_up_questions\": null,\n",
      "    \"answer\": null,\n",
      "    \"images\": [],\n",
      "    \"results\": [\n",
      "        {\n",
      "            \"url\": \"https://hk.cosme.net/products/127288\",\n",
      "            \"title\": \"Neogence 霓淨思深海藍藻補水保濕面膜資訊及評價 - cosme HK\",\n",
      "            \"content\": \"Neogence 霓淨思深海藍藻補水保濕面膜，最新3篇香港推薦心得評價，並有功效、用法、價錢、優惠等資訊。網友評價：轉季嘅時候，皮膚好敏感又乾燥，Neogence深海藍藻補水保濕\",\n",
      "            \"score\": 0.77487355,\n",
      "            \"raw_content\": null\n",
      "        },\n",
      "        {\n",
      "            \"url\": \"https://www.cosme.net.tw/products/84093/reviews\",\n",
      "            \"title\": \"【Neogence 霓淨思深海藍藻補水保濕面膜】使用心得一覽 - cosme\",\n",
      "            \"content\": \"蠻喜歡這款的~四季都在用敷上去有點涼感很適合夏天,冬天泡一下溫水才比較好上臉精華液質地是清爽型較水狀,沒有代謝角質成份算是很溫和的保濕面膜保濕表現很不錯~ 敷完之後\",\n",
      "            \"score\": 0.76427686,\n",
      "            \"raw_content\": null\n",
      "        }\n",
      "    ],\n",
      "    \"response_time\": 0.82\n",
      "}\n",
      "Observation: 工具返回结果：{'query': '深海蓝藻保湿面膜 用户评价', 'follow_up_questions': None, 'answer': None, 'images': [], 'results': [{'url': 'https://hk.cosme.net/products/127288', 'title': 'Neogence 霓淨思深海藍藻補水保濕面膜資訊及評價 - cosme HK', 'content': 'Neogence 霓淨思深海藍藻補水保濕面膜，最新3篇香港推薦心得評價，並有功效、用法、價錢、優惠等資訊。網友評價：轉季嘅時候，皮膚好敏感又乾燥，Neogence深海藍藻補水保濕', 'score': 0.77487355, 'raw_content': None}, {'url': 'https://www.cosme.net.tw/products/84093/reviews', 'title': '【Neogence 霓淨思深海藍藻補水保濕面膜】使用心得一覽 - cosme', 'content': '蠻喜歡這款的~四季都在用敷上去有點涼感很適合夏天,冬天泡一下溫水才比較好上臉精華液質地是清爽型較水狀,沒有代謝角質成份算是很溫和的保濕面膜保濕表現很不錯~ 敷完之後', 'score': 0.76427686, 'raw_content': None}], 'response_time': 0.82}\n",
      "-- Iteration 3 --\n",
      "Agent: 决定调用工具...\n",
      "Agent Action: 调用工具 'generate_emoji'，参数：{'context': '补水保湿、惊喜效果'}\n",
      "Observation: 工具返回结果：[\"💦\", \"😍\", \"✨\", \"🌿\", \"🎁\"]\n",
      "-- Iteration 4 --\n",
      "[模型生成结果] ```json\n",
      "{\n",
      "  \"title\": \"💦深海蓝藻保湿面膜｜干敏肌的补水救星！敷完脸蛋嫩到发光✨\",\n",
      "  \"body\": \"姐妹们！我又挖到宝啦！就是这个【深海蓝藻保湿面膜】！😍\n",
      "\n",
      "最近换季皮肤干到爆炸，上妆卡粉到怀疑人生...偶然用了这款面膜，真的被惊艳到了！敷上去凉凉的超舒服，精华液多到可以涂全身但一点都不黏腻～\n",
      "\n",
      "✨主打深海蓝藻提取物，补水锁水能力绝绝子！敷完脸就像喝饱水一样，嫩到反光！而且超级温和，我这个敏感肌用着也毫无压力～\n",
      "\n",
      "我一般一周敷2-3次，现在皮肤状态超级稳定，上妆都服帖多了！绝对是干皮/混干皮的年度爱用！\n",
      "\n",
      "PS：冬天可以先用温水泡一下再敷，更舒服哦～\",\n",
      "  \"hashtags\": [\"#保湿面膜\", \"#干敏肌救星\", \"#深海蓝藻\", \"#换季护肤\", \"#敏感肌友好\"],\n",
      "  \"emojis\": [\"💦\", \"😍\", \"✨\", \"🌿\", \"🎁\"]\n",
      "}\n",
      "```\n",
      "Agent: 提取到JSON块但解析失败: Invalid control character at: line 3 column 39 (char 83)\n",
      "尝试解析的字符串:\n",
      "{\n",
      "  \"title\": \"💦深海蓝藻保湿面膜｜干敏肌的补水救星！敷完脸蛋嫩到发光✨\",\n",
      "  \"body\": \"姐妹们！我又挖到宝啦！就是这个【深海蓝藻保湿面膜】！😍\n",
      "\n",
      "最近换季皮肤干到爆炸，上妆卡粉到怀疑人生...偶然用了这款面膜，真的被惊艳到了！敷上去凉凉的超舒服，精华液多到可以涂全身但一点都不黏腻～\n",
      "\n",
      "✨主打深海蓝藻提取物，补水锁水能力绝绝子！敷完脸就像喝饱水一样，嫩到反光！而且超级温和，我这个敏感肌用着也毫无压力～\n",
      "\n",
      "我一般一周敷2-3次，现在皮肤状态超级稳定，上妆都服帖多了！绝对是干皮/混干皮的年度爱用！\n",
      "\n",
      "PS：冬天可以先用温水泡一下再敷，更舒服哦～\",\n",
      "  \"hashtags\": [\"#保湿面膜\", \"#干敏肌救星\", \"#深海蓝藻\", \"#换季护肤\", \"#敏感肌友好\"],\n",
      "  \"emojis\": [\"💦\", \"😍\", \"✨\", \"🌿\", \"🎁\"]\n",
      "}\n",
      "-- Iteration 5 --\n",
      "[模型生成结果] ```json\n",
      "{\n",
      "  \"title\": \"💦深海蓝藻保湿面膜｜干敏肌的补水救星！敷完脸蛋嫩到发光✨\",\n",
      "  \"body\": \"姐妹们！我又挖到宝啦！就是这个【深海蓝藻保湿面膜】！😍\\n\\n最近换季皮肤干到爆炸，上妆卡粉到怀疑人生...偶然用了这款面膜，真的被惊艳到了！敷上去凉凉的超舒服，精华液多到可以涂全身但一点都不黏腻～\\n\\n✨主打深海蓝藻提取物，补水锁水能力绝绝子！敷完脸就像喝饱水一样，嫩到反光！而且超级温和，我这个敏感肌用着也毫无压力～\\n\\n我一般一周敷2-3次，现在皮肤状态超级稳定，上妆都服帖多了！绝对是干皮/混干皮的年度爱用！\\n\\nPS：冬天可以先用温水泡一下再敷，更舒服哦～\",\n",
      "  \"hashtags\": [\"#保湿面膜\", \"#干敏肌救星\", \"#深海蓝藻\", \"#换季护肤\", \"#敏感肌友好\"],\n",
      "  \"emojis\": [\"💦\", \"😍\", \"✨\", \"🌿\", \"🎁\"]\n",
      "}\n",
      "```\n",
      "Agent: 任务完成，成功解析最终JSON文案。\n",
      "\n",
      "--- 生成的文案 1 ---\n",
      "{\n",
      "  \"title\": \"💦深海蓝藻保湿面膜｜干敏肌的补水救星！敷完脸蛋嫩到发光✨\",\n",
      "  \"body\": \"姐妹们！我又挖到宝啦！就是这个【深海蓝藻保湿面膜】！😍\\n\\n最近换季皮肤干到爆炸，上妆卡粉到怀疑人生...偶然用了这款面膜，真的被惊艳到了！敷上去凉凉的超舒服，精华液多到可以涂全身但一点都不黏腻～\\n\\n✨主打深海蓝藻提取物，补水锁水能力绝绝子！敷完脸就像喝饱水一样，嫩到反光！而且超级温和，我这个敏感肌用着也毫无压力～\\n\\n我一般一周敷2-3次，现在皮肤状态超级稳定，上妆都服帖多了！绝对是干皮/混干皮的年度爱用！\\n\\nPS：冬天可以先用温水泡一下再敷，更舒服哦～\",\n",
      "  \"hashtags\": [\n",
      "    \"#保湿面膜\",\n",
      "    \"#干敏肌救星\",\n",
      "    \"#深海蓝藻\",\n",
      "    \"#换季护肤\",\n",
      "    \"#敏感肌友好\"\n",
      "  ],\n",
      "  \"emojis\": [\n",
      "    \"💦\",\n",
      "    \"😍\",\n",
      "    \"✨\",\n",
      "    \"🌿\",\n",
      "    \"🎁\"\n",
      "  ]\n",
      "}\n"
     ]
    }
   ],
   "source": [
    "# 测试案例 1: 深海蓝藻保湿面膜\n",
    "product_name_1 = \"深海蓝藻保湿面膜\"\n",
    "tone_style_1 = \"活泼甜美\"\n",
    "result_1 = generate_rednote(product_name_1, tone_style_1)\n",
    "\n",
    "print(\"\\n--- 生成的文案 1 ---\")\n",
    "print(result_1)"
   ]
  },
  {
   "cell_type": "code",
   "execution_count": 14,
   "id": "8f2734cf-2f08-4fc5-a68e-9224828ee48a",
   "metadata": {
    "ExecutionIndicator": {
     "show": true
    },
    "execution": {
     "iopub.execute_input": "2025-07-19T02:45:27.456771Z",
     "iopub.status.busy": "2025-07-19T02:45:27.456583Z",
     "iopub.status.idle": "2025-07-19T02:45:45.353236Z",
     "shell.execute_reply": "2025-07-19T02:45:45.352402Z",
     "shell.execute_reply.started": "2025-07-19T02:45:27.456755Z"
    },
    "tags": []
   },
   "outputs": [
    {
     "name": "stdout",
     "output_type": "stream",
     "text": [
      "\n",
      "🚀 启动小红书文案生成助手，产品：美白精华，风格：知性温柔\n",
      "\n",
      "-- Iteration 1 --\n",
      "Agent: 决定调用工具...\n",
      "Agent Action: 调用工具 'query_product_database'，参数：{'product_name': '美白精华'}\n",
      "\n",
      "====================RAG检索结果====================\n",
      "\n",
      "{\"id\": \"4\", \"fields\": {\"name\": \"烟酰胺净透美白精华\", \"description\": \"5%烟酰胺浓度配合AA2G衍生物，抑制黑色素小体转移，改善肤色不均及痘印沉淀问题\", \"text\": \"名称：烟酰胺净透美白精华，描述：5%烟酰胺浓度配合AA2G衍生物，抑制黑色素小体转移，改善肤色不均及痘印沉淀问题，类别：精华\", \"category\": \"精华\"}, \"score\": 0.2208}\n",
      "{\"id\": \"10\", \"fields\": {\"name\": \"视黄醇夜间抗皱精华\", \"description\": \"0.3%包裹缓释视黄醇配合肽复合物，激活胶原再生通路，改善静态皱纹及皮肤粗糙度\", \"text\": \"名称：视黄醇夜间抗皱精华，描述：0.3%包裹缓释视黄醇配合肽复合物，激活胶原再生通路，改善静态皱纹及皮肤粗糙度，类别：精华\", \"category\": \"精华\"}, \"score\": 0.2465}\n",
      "{\"id\": \"31\", \"fields\": {\"name\": \"依克多因防护精华\", \"description\": \"盐生微生物提取依克多因，稳定蛋白质结构，对抗极端环境损伤\", \"text\": \"名称：依克多因防护精华，描述：盐生微生物提取依克多因，稳定蛋白质结构，对抗极端环境损伤，类别：精华\", \"category\": \"精华\"}, \"score\": 0.3085}\n",
      "Observation: 工具返回结果：名称：烟酰胺净透美白精华，描述：5%烟酰胺浓度配合AA2G衍生物，抑制黑色素小体转移，改善肤色不均及痘印沉淀问题，类别：精华\n",
      "-- Iteration 2 --\n",
      "Agent: 决定调用工具...\n",
      "Agent Action: 调用工具 'generate_emoji'，参数：{'context': '美白精华效果惊艳'}\n",
      "Observation: 工具返回结果：[\"✨\", \"🌟\", \"😍\", \"💖\", \"👍\"]\n",
      "-- Iteration 3 --\n",
      "[模型生成结果] ```json\n",
      "{\n",
      "  \"title\": \"✨烟酰胺净透美白精华｜告别暗沉，28天白到发光🌟\",\n",
      "  \"body\": \"姐妹们！最近发现了一款让我惊艳的美白精华！就是这个【烟酰胺净透美白精华】！😍\n",
      "\n",
      "一直因为熬夜和压力，皮肤暗沉到不行，痘印也消不掉...用了这款精华后，真的被它的效果折服了！质地轻薄好吸收，完全不会黏腻～\n",
      "\n",
      "✨主打5%烟酰胺浓度配合AA2G衍生物，不仅能抑制黑色素转移，还能改善肤色不均和痘印！用了28天，皮肤真的透亮了好多，连朋友都问我是不是打了光💖\n",
      "\n",
      "我一般是早晚各用一次，后续搭配防晒，效果更明显！敏感肌也可以放心用，温和不刺激～\n",
      "\n",
      "PS：记得坚持用哦，美白是个持久战，但这款精华真的值得！👍\",\n",
      "  \"hashtags\": [\"#美白精华\", \"#烟酰胺\", \"#肤色提亮\", \"#痘印修复\", \"#敏感肌友好\"],\n",
      "  \"emojis\": [\"✨\", \"🌟\", \"😍\", \"💖\", \"👍\"]\n",
      "}\n",
      "```\n",
      "Agent: 提取到JSON块但解析失败: Invalid control character at: line 3 column 50 (char 90)\n",
      "尝试解析的字符串:\n",
      "{\n",
      "  \"title\": \"✨烟酰胺净透美白精华｜告别暗沉，28天白到发光🌟\",\n",
      "  \"body\": \"姐妹们！最近发现了一款让我惊艳的美白精华！就是这个【烟酰胺净透美白精华】！😍\n",
      "\n",
      "一直因为熬夜和压力，皮肤暗沉到不行，痘印也消不掉...用了这款精华后，真的被它的效果折服了！质地轻薄好吸收，完全不会黏腻～\n",
      "\n",
      "✨主打5%烟酰胺浓度配合AA2G衍生物，不仅能抑制黑色素转移，还能改善肤色不均和痘印！用了28天，皮肤真的透亮了好多，连朋友都问我是不是打了光💖\n",
      "\n",
      "我一般是早晚各用一次，后续搭配防晒，效果更明显！敏感肌也可以放心用，温和不刺激～\n",
      "\n",
      "PS：记得坚持用哦，美白是个持久战，但这款精华真的值得！👍\",\n",
      "  \"hashtags\": [\"#美白精华\", \"#烟酰胺\", \"#肤色提亮\", \"#痘印修复\", \"#敏感肌友好\"],\n",
      "  \"emojis\": [\"✨\", \"🌟\", \"😍\", \"💖\", \"👍\"]\n",
      "}\n",
      "-- Iteration 4 --\n",
      "[模型生成结果] ```json\n",
      "{\n",
      "  \"title\": \"✨烟酰胺净透美白精华｜告别暗沉，28天白到发光🌟\",\n",
      "  \"body\": \"姐妹们！最近发现了一款让我惊艳的美白精华！就是这个【烟酰胺净透美白精华】！😍\\n\\n一直因为熬夜和压力，皮肤暗沉到不行，痘印也消不掉...用了这款精华后，真的被它的效果折服了！质地轻薄好吸收，完全不会黏腻～\\n\\n✨主打5%烟酰胺浓度配合AA2G衍生物，不仅能抑制黑色素转移，还能改善肤色不均和痘印！用了28天，皮肤真的透亮了好多，连朋友都问我是不是打了光💖\\n\\n我一般是早晚各用一次，后续搭配防晒，效果更明显！敏感肌也可以放心用，温和不刺激～\\n\\nPS：记得坚持用哦，美白是个持久战，但这款精华真的值得！👍\",\n",
      "  \"hashtags\": [\"#美白精华\", \"#烟酰胺\", \"#肤色提亮\", \"#痘印修复\", \"#敏感肌友好\"],\n",
      "  \"emojis\": [\"✨\", \"🌟\", \"😍\", \"💖\", \"👍\"]\n",
      "}\n",
      "```\n",
      "Agent: 任务完成，成功解析最终JSON文案。\n",
      "\n",
      "--- 生成的文案 2 ---\n",
      "{\n",
      "  \"title\": \"✨烟酰胺净透美白精华｜告别暗沉，28天白到发光🌟\",\n",
      "  \"body\": \"姐妹们！最近发现了一款让我惊艳的美白精华！就是这个【烟酰胺净透美白精华】！😍\\n\\n一直因为熬夜和压力，皮肤暗沉到不行，痘印也消不掉...用了这款精华后，真的被它的效果折服了！质地轻薄好吸收，完全不会黏腻～\\n\\n✨主打5%烟酰胺浓度配合AA2G衍生物，不仅能抑制黑色素转移，还能改善肤色不均和痘印！用了28天，皮肤真的透亮了好多，连朋友都问我是不是打了光💖\\n\\n我一般是早晚各用一次，后续搭配防晒，效果更明显！敏感肌也可以放心用，温和不刺激～\\n\\nPS：记得坚持用哦，美白是个持久战，但这款精华真的值得！👍\",\n",
      "  \"hashtags\": [\n",
      "    \"#美白精华\",\n",
      "    \"#烟酰胺\",\n",
      "    \"#肤色提亮\",\n",
      "    \"#痘印修复\",\n",
      "    \"#敏感肌友好\"\n",
      "  ],\n",
      "  \"emojis\": [\n",
      "    \"✨\",\n",
      "    \"🌟\",\n",
      "    \"😍\",\n",
      "    \"💖\",\n",
      "    \"👍\"\n",
      "  ]\n",
      "}\n"
     ]
    }
   ],
   "source": [
    "# 测试案例 2: 美白精华\n",
    "product_name_2 = \"美白精华\"\n",
    "tone_style_2 = \"知性温柔\"\n",
    "result_2 = generate_rednote(product_name_2, tone_style_2)\n",
    "\n",
    "print(\"\\n--- 生成的文案 2 ---\")\n",
    "print(result_2)"
   ]
  },
  {
   "cell_type": "code",
   "execution_count": 15,
   "id": "22948b7e",
   "metadata": {
    "execution": {
     "iopub.execute_input": "2025-07-19T02:45:45.353974Z",
     "iopub.status.busy": "2025-07-19T02:45:45.353804Z",
     "iopub.status.idle": "2025-07-19T02:46:03.717787Z",
     "shell.execute_reply": "2025-07-19T02:46:03.716933Z",
     "shell.execute_reply.started": "2025-07-19T02:45:45.353958Z"
    }
   },
   "outputs": [
    {
     "name": "stdout",
     "output_type": "stream",
     "text": [
      "\n",
      "🚀 启动小红书文案生成助手，产品：美白精华，风格：知性温柔\n",
      "\n",
      "-- Iteration 1 --\n",
      "Agent: 决定调用工具...\n",
      "Agent Action: 调用工具 'query_product_database'，参数：{'product_name': '美白精华'}\n",
      "\n",
      "====================RAG检索结果====================\n",
      "\n",
      "{\"id\": \"4\", \"fields\": {\"name\": \"烟酰胺净透美白精华\", \"description\": \"5%烟酰胺浓度配合AA2G衍生物，抑制黑色素小体转移，改善肤色不均及痘印沉淀问题\", \"text\": \"名称：烟酰胺净透美白精华，描述：5%烟酰胺浓度配合AA2G衍生物，抑制黑色素小体转移，改善肤色不均及痘印沉淀问题，类别：精华\", \"category\": \"精华\"}, \"score\": 0.2208}\n",
      "{\"id\": \"10\", \"fields\": {\"name\": \"视黄醇夜间抗皱精华\", \"description\": \"0.3%包裹缓释视黄醇配合肽复合物，激活胶原再生通路，改善静态皱纹及皮肤粗糙度\", \"text\": \"名称：视黄醇夜间抗皱精华，描述：0.3%包裹缓释视黄醇配合肽复合物，激活胶原再生通路，改善静态皱纹及皮肤粗糙度，类别：精华\", \"category\": \"精华\"}, \"score\": 0.2465}\n",
      "{\"id\": \"31\", \"fields\": {\"name\": \"依克多因防护精华\", \"description\": \"盐生微生物提取依克多因，稳定蛋白质结构，对抗极端环境损伤\", \"text\": \"名称：依克多因防护精华，描述：盐生微生物提取依克多因，稳定蛋白质结构，对抗极端环境损伤，类别：精华\", \"category\": \"精华\"}, \"score\": 0.3085}\n",
      "Observation: 工具返回结果：名称：烟酰胺净透美白精华，描述：5%烟酰胺浓度配合AA2G衍生物，抑制黑色素小体转移，改善肤色不均及痘印沉淀问题，类别：精华\n",
      "-- Iteration 2 --\n",
      "Agent: 决定调用工具...\n",
      "Agent Action: 调用工具 'generate_emoji'，参数：{'context': '美白精华 知性温柔'}\n",
      "Observation: 工具返回结果：[\"✨\", \"🌸\", \"💧\", \"🌙\", \"💖\"]\n",
      "-- Iteration 3 --\n",
      "[模型生成结果] ```json\n",
      "{\n",
      "  \"title\": \"✨烟酰胺美白精华｜告别暗沉！28天见证肌肤透亮之旅🌸\",\n",
      "  \"body\": \"亲爱的姐妹们，今天要分享的是这款让我惊艳的【烟酰胺净透美白精华】！💖\n",
      "\n",
      "作为一个长期与暗沉肌肤抗争的人，这款精华真的是我的救星！含有5%高浓度烟酰胺，搭配AA2G衍生物，不仅能有效抑制黑色素转移，还能改善肤色不均和痘印沉淀～连续使用28天后，我的肌肤明显透亮了许多，连朋友都问我是不是换了粉底液！\n",
      "\n",
      "💧质地轻盈不黏腻，吸收超级快，早晚都能用！我习惯在爽肤水后使用，轻轻按摩至吸收，再配合防晒，效果加倍哦～\n",
      "\n",
      "🌙特别推荐给和我一样有暗沉、痘印困扰的姐妹！温和不刺激，敏感肌也可安心使用～现在我的肌肤终于告别了灰蒙蒙的状态，素颜也敢出门啦！\",\n",
      "  \"hashtags\": [\"#美白精华\", \"#烟酰胺\", \"#28天美白计划\", \"#告别暗沉\", \"#敏感肌友好\"],\n",
      "  \"emojis\": [\"✨\", \"🌸\", \"💧\", \"🌙\", \"💖\"]\n",
      "}\n",
      "```\n",
      "Agent: 提取到JSON块但解析失败: Invalid control character at: line 3 column 46 (char 88)\n",
      "尝试解析的字符串:\n",
      "{\n",
      "  \"title\": \"✨烟酰胺美白精华｜告别暗沉！28天见证肌肤透亮之旅🌸\",\n",
      "  \"body\": \"亲爱的姐妹们，今天要分享的是这款让我惊艳的【烟酰胺净透美白精华】！💖\n",
      "\n",
      "作为一个长期与暗沉肌肤抗争的人，这款精华真的是我的救星！含有5%高浓度烟酰胺，搭配AA2G衍生物，不仅能有效抑制黑色素转移，还能改善肤色不均和痘印沉淀～连续使用28天后，我的肌肤明显透亮了许多，连朋友都问我是不是换了粉底液！\n",
      "\n",
      "💧质地轻盈不黏腻，吸收超级快，早晚都能用！我习惯在爽肤水后使用，轻轻按摩至吸收，再配合防晒，效果加倍哦～\n",
      "\n",
      "🌙特别推荐给和我一样有暗沉、痘印困扰的姐妹！温和不刺激，敏感肌也可安心使用～现在我的肌肤终于告别了灰蒙蒙的状态，素颜也敢出门啦！\",\n",
      "  \"hashtags\": [\"#美白精华\", \"#烟酰胺\", \"#28天美白计划\", \"#告别暗沉\", \"#敏感肌友好\"],\n",
      "  \"emojis\": [\"✨\", \"🌸\", \"💧\", \"🌙\", \"💖\"]\n",
      "}\n",
      "-- Iteration 4 --\n",
      "[模型生成结果] ```json\n",
      "{\n",
      "  \"title\": \"✨烟酰胺美白精华｜告别暗沉！28天见证肌肤透亮之旅🌸\",\n",
      "  \"body\": \"亲爱的姐妹们，今天要分享的是这款让我惊艳的【烟酰胺净透美白精华】！💖\\n\\n作为一个长期与暗沉肌肤抗争的人，这款精华真的是我的救星！含有5%高浓度烟酰胺，搭配AA2G衍生物，不仅能有效抑制黑色素转移，还能改善肤色不均和痘印沉淀～连续使用28天后，我的肌肤明显透亮了许多，连朋友都问我是不是换了粉底液！\\n\\n💧质地轻盈不黏腻，吸收超级快，早晚都能用！我习惯在爽肤水后使用，轻轻按摩至吸收，再配合防晒，效果加倍哦～\\n\\n🌙特别推荐给和我一样有暗沉、痘印困扰的姐妹！温和不刺激，敏感肌也可安心使用～现在我的肌肤终于告别了灰蒙蒙的状态，素颜也敢出门啦！\",\n",
      "  \"hashtags\": [\"#美白精华\", \"#烟酰胺\", \"#28天美白计划\", \"#告别暗沉\", \"#敏感肌友好\"],\n",
      "  \"emojis\": [\"✨\", \"🌸\", \"💧\", \"🌙\", \"💖\"]\n",
      "}\n",
      "```\n",
      "Agent: 任务完成，成功解析最终JSON文案。\n",
      "\n",
      "--- 生成的文案 3 ---\n",
      "{\n",
      "  \"title\": \"✨烟酰胺美白精华｜告别暗沉！28天见证肌肤透亮之旅🌸\",\n",
      "  \"body\": \"亲爱的姐妹们，今天要分享的是这款让我惊艳的【烟酰胺净透美白精华】！💖\\n\\n作为一个长期与暗沉肌肤抗争的人，这款精华真的是我的救星！含有5%高浓度烟酰胺，搭配AA2G衍生物，不仅能有效抑制黑色素转移，还能改善肤色不均和痘印沉淀～连续使用28天后，我的肌肤明显透亮了许多，连朋友都问我是不是换了粉底液！\\n\\n💧质地轻盈不黏腻，吸收超级快，早晚都能用！我习惯在爽肤水后使用，轻轻按摩至吸收，再配合防晒，效果加倍哦～\\n\\n🌙特别推荐给和我一样有暗沉、痘印困扰的姐妹！温和不刺激，敏感肌也可安心使用～现在我的肌肤终于告别了灰蒙蒙的状态，素颜也敢出门啦！\",\n",
      "  \"hashtags\": [\n",
      "    \"#美白精华\",\n",
      "    \"#烟酰胺\",\n",
      "    \"#28天美白计划\",\n",
      "    \"#告别暗沉\",\n",
      "    \"#敏感肌友好\"\n",
      "  ],\n",
      "  \"emojis\": [\n",
      "    \"✨\",\n",
      "    \"🌸\",\n",
      "    \"💧\",\n",
      "    \"🌙\",\n",
      "    \"💖\"\n",
      "  ]\n",
      "}\n"
     ]
    }
   ],
   "source": [
    "# 测试案例 3: 祛痘喷雾\n",
    "product_name_3 = \"祛痘喷雾\"\n",
    "tone_style_3 = \"惊喜推荐\"\n",
    "result_3 = generate_rednote(product_name_2, tone_style_2)\n",
    "\n",
    "print(\"\\n--- 生成的文案 3 ---\")\n",
    "print(result_3)"
   ]
  },
  {
   "cell_type": "markdown",
   "id": "27043652-cd74-4b07-addc-458c295ad739",
   "metadata": {},
   "source": [
    "## 5. 格式化 小红书文案\n",
    "\n",
    "**格式化函数 `format_rednote_for_markdown` 的功能：**\n",
    "\n",
    "1. 解析 JSON 字符串。\n",
    "2. 提取标题、正文、标签和表情符号。\n",
    "3. 将它们组合成一个易读的 Markdown 格式的文本。\n",
    "\n",
    "\n",
    "**工作方式：**\n",
    "\n",
    "1. **解析 JSON**：使用 `json.loads()` 将输入的字符串转换为 Python 字典。如果解析失败，会返回一个错误信息。\n",
    "2. **提取数据**：使用 `.get()` 方法从字典中安全地提取 `title`、`body` 和 `hashtags`。使用 `.get()` 的好处是，如果某个键不存在，它会返回一个默认值（例如 `None` 或空列表），而不是抛出 `KeyError`。\n",
    "3. **构建 Markdown 标题**：将 `title` 格式化为 Markdown 的二级标题 (`## Title`)。\n",
    "4. **处理正文**：直接使用 `body`。由于小红书正文中的换行很重要，我们保留它们。\n",
    "5. **处理 Hashtags**：将 `hashtags` 列表中的每个标签用空格连接起来，形成一行。\n",
    "6. **表情符号 (Emojis)**：在小红书的实际发布中，表情符号通常已经嵌入在标题和正文中了。这个函数没有单独列出它们，因为这通常不是最终发布格式的一部分。如果需要，可以取消注释相关代码来单独显示它们。\n",
    "7. **返回结果**：返回拼接好的 Markdown 字符串，并使用 `.strip()` 去除可能存在于末尾的多余空白。"
   ]
  },
  {
   "cell_type": "code",
   "execution_count": 16,
   "id": "cb04b858-002c-4a31-8cb2-b19b745d78f0",
   "metadata": {
    "execution": {
     "iopub.execute_input": "2025-07-19T02:46:03.718721Z",
     "iopub.status.busy": "2025-07-19T02:46:03.718451Z",
     "iopub.status.idle": "2025-07-19T02:46:03.724536Z",
     "shell.execute_reply": "2025-07-19T02:46:03.723802Z",
     "shell.execute_reply.started": "2025-07-19T02:46:03.718695Z"
    },
    "tags": []
   },
   "outputs": [],
   "source": [
    "import json\n",
    "\n",
    "def format_rednote_for_markdown(json_string: str) -> str:\n",
    "    \"\"\"\n",
    "    将 JSON 格式的小红书文案转换为 Markdown 格式，以便于阅读和发布。\n",
    "\n",
    "    Args:\n",
    "        json_string (str): 包含小红书文案的 JSON 字符串。\n",
    "                           预计格式为 {\"title\": \"...\", \"body\": \"...\", \"hashtags\": [...], \"emojis\": [...]}\n",
    "\n",
    "    Returns:\n",
    "        str: 格式化后的 Markdown 文本。\n",
    "    \"\"\"\n",
    "    try:\n",
    "        data = json.loads(json_string)\n",
    "    except json.JSONDecodeError as e:\n",
    "        return f\"错误：无法解析 JSON 字符串 - {e}\\n原始字符串：\\n{json_string}\"\n",
    "\n",
    "    title = data.get(\"title\", \"无标题\")\n",
    "    body = data.get(\"body\", \"\")\n",
    "    hashtags = data.get(\"hashtags\", [])\n",
    "    # 表情符号通常已经融入标题和正文中，这里可以选择是否单独列出\n",
    "    emojis = data.get(\"emojis\", []) \n",
    "\n",
    "    # 构建 Markdown 文本\n",
    "    markdown_output = f\"## {title}\\n\\n\" # 标题使用二级标题\n",
    "    \n",
    "    # 正文，保留换行符\n",
    "    markdown_output += f\"{body}\\n\\n\"\n",
    "    \n",
    "    # Hashtags\n",
    "    if hashtags:\n",
    "        hashtag_string = \" \".join(hashtags) # 小红书标签通常是空格分隔\n",
    "        markdown_output += f\"{hashtag_string}\\n\"\n",
    "        \n",
    "    # 如果需要，可以单独列出表情符号，但通常它们已经包含在标题和正文中\n",
    "    if emojis:\n",
    "        emoji_string = \" \".join(emojis)\n",
    "        markdown_output += f\"\\n使用的表情：{emoji_string}\\n\"\n",
    "        \n",
    "    return markdown_output.strip() # 去除末尾多余的空白"
   ]
  },
  {
   "cell_type": "code",
   "execution_count": 21,
   "id": "fb1e5deb",
   "metadata": {
    "execution": {
     "iopub.execute_input": "2025-07-19T02:47:31.252954Z",
     "iopub.status.busy": "2025-07-19T02:47:31.252600Z",
     "iopub.status.idle": "2025-07-19T02:47:31.261988Z",
     "shell.execute_reply": "2025-07-19T02:47:31.261279Z",
     "shell.execute_reply.started": "2025-07-19T02:47:31.252920Z"
    },
    "tags": []
   },
   "outputs": [
    {
     "name": "stdout",
     "output_type": "stream",
     "text": [
      "--- 格式化后的小红书文案 (Markdown) ---\n",
      "## 💦深海蓝藻保湿面膜｜干敏肌的补水救星！敷完脸蛋嫩到发光✨\n",
      "\n",
      "姐妹们！我又挖到宝啦！就是这个【深海蓝藻保湿面膜】！😍\n",
      "\n",
      "最近换季皮肤干到爆炸，上妆卡粉到怀疑人生...偶然用了这款面膜，真的被惊艳到了！敷上去凉凉的超舒服，精华液多到可以涂全身但一点都不黏腻～\n",
      "\n",
      "✨主打深海蓝藻提取物，补水锁水能力绝绝子！敷完脸就像喝饱水一样，嫩到反光！而且超级温和，我这个敏感肌用着也毫无压力～\n",
      "\n",
      "我一般一周敷2-3次，现在皮肤状态超级稳定，上妆都服帖多了！绝对是干皮/混干皮的年度爱用！\n",
      "\n",
      "PS：冬天可以先用温水泡一下再敷，更舒服哦～\n",
      "\n",
      "#保湿面膜 #干敏肌救星 #深海蓝藻 #换季护肤 #敏感肌友好\n",
      "\n",
      "使用的表情：💦 😍 ✨ 🌿 🎁\n"
     ]
    }
   ],
   "source": [
    "# 调用格式化函数\n",
    "markdown_note = format_rednote_for_markdown(result_1)\n",
    "\n",
    "# 打印结果\n",
    "print(\"--- 格式化后的小红书文案 (Markdown) ---\")\n",
    "print(markdown_note)"
   ]
  },
  {
   "cell_type": "code",
   "execution_count": 18,
   "id": "13739c13",
   "metadata": {
    "execution": {
     "iopub.execute_input": "2025-07-19T02:46:03.733137Z",
     "iopub.status.busy": "2025-07-19T02:46:03.732895Z",
     "iopub.status.idle": "2025-07-19T02:46:03.741190Z",
     "shell.execute_reply": "2025-07-19T02:46:03.740454Z",
     "shell.execute_reply.started": "2025-07-19T02:46:03.733112Z"
    }
   },
   "outputs": [
    {
     "name": "stdout",
     "output_type": "stream",
     "text": [
      "--- 格式化后的小红书文案 (Markdown) ---\n",
      "## ✨烟酰胺净透美白精华｜告别暗沉，28天白到发光🌟\n",
      "\n",
      "姐妹们！最近发现了一款让我惊艳的美白精华！就是这个【烟酰胺净透美白精华】！😍\n",
      "\n",
      "一直因为熬夜和压力，皮肤暗沉到不行，痘印也消不掉...用了这款精华后，真的被它的效果折服了！质地轻薄好吸收，完全不会黏腻～\n",
      "\n",
      "✨主打5%烟酰胺浓度配合AA2G衍生物，不仅能抑制黑色素转移，还能改善肤色不均和痘印！用了28天，皮肤真的透亮了好多，连朋友都问我是不是打了光💖\n",
      "\n",
      "我一般是早晚各用一次，后续搭配防晒，效果更明显！敏感肌也可以放心用，温和不刺激～\n",
      "\n",
      "PS：记得坚持用哦，美白是个持久战，但这款精华真的值得！👍\n",
      "\n",
      "#美白精华 #烟酰胺 #肤色提亮 #痘印修复 #敏感肌友好\n",
      "\n",
      "使用的表情：✨ 🌟 😍 💖 👍\n"
     ]
    }
   ],
   "source": [
    "# 调用格式化函数\n",
    "markdown_note = format_rednote_for_markdown(result_2)\n",
    "\n",
    "# 打印结果\n",
    "print(\"--- 格式化后的小红书文案 (Markdown) ---\")\n",
    "print(markdown_note)"
   ]
  },
  {
   "cell_type": "code",
   "execution_count": 19,
   "id": "66460395",
   "metadata": {
    "execution": {
     "iopub.execute_input": "2025-07-19T02:46:03.742183Z",
     "iopub.status.busy": "2025-07-19T02:46:03.741927Z",
     "iopub.status.idle": "2025-07-19T02:46:03.747119Z",
     "shell.execute_reply": "2025-07-19T02:46:03.746378Z",
     "shell.execute_reply.started": "2025-07-19T02:46:03.742158Z"
    },
    "tags": []
   },
   "outputs": [
    {
     "name": "stdout",
     "output_type": "stream",
     "text": [
      "--- 格式化后的小红书文案 (Markdown) ---\n",
      "## ✨烟酰胺美白精华｜告别暗沉！28天见证肌肤透亮之旅🌸\n",
      "\n",
      "亲爱的姐妹们，今天要分享的是这款让我惊艳的【烟酰胺净透美白精华】！💖\n",
      "\n",
      "作为一个长期与暗沉肌肤抗争的人，这款精华真的是我的救星！含有5%高浓度烟酰胺，搭配AA2G衍生物，不仅能有效抑制黑色素转移，还能改善肤色不均和痘印沉淀～连续使用28天后，我的肌肤明显透亮了许多，连朋友都问我是不是换了粉底液！\n",
      "\n",
      "💧质地轻盈不黏腻，吸收超级快，早晚都能用！我习惯在爽肤水后使用，轻轻按摩至吸收，再配合防晒，效果加倍哦～\n",
      "\n",
      "🌙特别推荐给和我一样有暗沉、痘印困扰的姐妹！温和不刺激，敏感肌也可安心使用～现在我的肌肤终于告别了灰蒙蒙的状态，素颜也敢出门啦！\n",
      "\n",
      "#美白精华 #烟酰胺 #28天美白计划 #告别暗沉 #敏感肌友好\n",
      "\n",
      "使用的表情：✨ 🌸 💧 🌙 💖\n"
     ]
    }
   ],
   "source": [
    "# 调用格式化函数\n",
    "markdown_note = format_rednote_for_markdown(result_3)\n",
    "\n",
    "# 打印结果\n",
    "print(\"--- 格式化后的小红书文案 (Markdown) ---\")\n",
    "print(markdown_note)"
   ]
  }
 ],
 "metadata": {
  "colab": {
   "private_outputs": true,
   "provenance": []
  },
  "kernelspec": {
   "display_name": "Python 3 (ipykernel)",
   "language": "python",
   "name": "python3"
  },
  "language_info": {
   "codemirror_mode": {
    "name": "ipython",
    "version": 3
   },
   "file_extension": ".py",
   "mimetype": "text/x-python",
   "name": "python",
   "nbconvert_exporter": "python",
   "pygments_lexer": "ipython3",
   "version": "3.11.11"
  }
 },
 "nbformat": 4,
 "nbformat_minor": 5
}
