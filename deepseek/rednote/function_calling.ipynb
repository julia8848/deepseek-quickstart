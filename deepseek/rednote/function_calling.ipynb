{
 "cells": [
  {
   "cell_type": "code",
   "execution_count": 1,
   "id": "9cb323ff-c445-4b4d-a86f-899ec6a993e0",
   "metadata": {
    "ExecutionIndicator": {
     "show": true
    },
    "execution": {
     "iopub.execute_input": "2025-07-17T13:15:54.493257Z",
     "iopub.status.busy": "2025-07-17T13:15:54.492926Z",
     "iopub.status.idle": "2025-07-17T13:15:55.021002Z",
     "shell.execute_reply": "2025-07-17T13:15:55.020348Z",
     "shell.execute_reply.started": "2025-07-17T13:15:54.493232Z"
    },
    "tags": []
   },
   "outputs": [],
   "source": [
    "import os\n",
    "from openai import OpenAI\n",
    "\n",
    "# 从环境变量获取 DeepSeek API Key\n",
    "api_key = os.getenv(\"DASHSCOPE_API_KEY\")\n",
    "if not api_key:\n",
    "    raise ValueError(\"请设置 DASHSCOPE_API_KEY 环境变量\")\n",
    "\n",
    "# 初始化 DeepSeek 客户端\n",
    "client = OpenAI(\n",
    "    api_key=api_key,\n",
    "    base_url=\"https://dashscope.aliyuncs.com/compatible-mode/v1\",\n",
    ")"
   ]
  },
  {
   "cell_type": "code",
   "execution_count": 6,
   "id": "d90d29f4-651e-4228-9cbf-10a08b5aadf6",
   "metadata": {
    "ExecutionIndicator": {
     "show": true
    },
    "execution": {
     "iopub.execute_input": "2025-07-17T13:17:14.590690Z",
     "iopub.status.busy": "2025-07-17T13:17:14.590346Z",
     "iopub.status.idle": "2025-07-17T13:17:14.594958Z",
     "shell.execute_reply": "2025-07-17T13:17:14.594129Z",
     "shell.execute_reply.started": "2025-07-17T13:17:14.590666Z"
    },
    "tags": []
   },
   "outputs": [],
   "source": [
    "def send_messages(messages):\n",
    "    response = client.chat.completions.create(\n",
    "        model=\"deepseek-v3\",\n",
    "        messages=messages,\n",
    "        tools=tools\n",
    "    )\n",
    "    return response.choices[0].message"
   ]
  },
  {
   "cell_type": "code",
   "execution_count": 7,
   "id": "565aec1d-c35d-4861-9123-f136ecc49c79",
   "metadata": {
    "execution": {
     "iopub.execute_input": "2025-07-17T13:17:19.739807Z",
     "iopub.status.busy": "2025-07-17T13:17:19.739314Z",
     "iopub.status.idle": "2025-07-17T13:17:19.745805Z",
     "shell.execute_reply": "2025-07-17T13:17:19.743247Z",
     "shell.execute_reply.started": "2025-07-17T13:17:19.739779Z"
    },
    "tags": []
   },
   "outputs": [],
   "source": [
    "tools = [\n",
    "    {\n",
    "        \"type\": \"function\",\n",
    "        \"function\": {\n",
    "            \"name\": \"get_weather\",\n",
    "            \"description\": \"Get weather of an location, the user shoud supply a location first\",\n",
    "            \"parameters\": {\n",
    "                \"type\": \"object\",\n",
    "                \"properties\": {\n",
    "                    \"location\": {\n",
    "                        \"type\": \"string\",\n",
    "                        \"description\": \"The city and state, e.g. San Francisco, CA\",\n",
    "                    }\n",
    "                },\n",
    "                \"required\": [\"location\"]\n",
    "            },\n",
    "        }\n",
    "    },\n",
    "]"
   ]
  },
  {
   "cell_type": "code",
   "execution_count": 8,
   "id": "b6a8c1ca-165d-4257-bcbb-a264f678065e",
   "metadata": {
    "execution": {
     "iopub.execute_input": "2025-07-17T13:17:21.558863Z",
     "iopub.status.busy": "2025-07-17T13:17:21.558524Z",
     "iopub.status.idle": "2025-07-17T13:17:29.077838Z",
     "shell.execute_reply": "2025-07-17T13:17:29.077218Z",
     "shell.execute_reply.started": "2025-07-17T13:17:21.558837Z"
    },
    "tags": []
   },
   "outputs": [],
   "source": [
    "messages = [{\"role\": \"user\", \"content\": \"How's the weather in Shanghai?\"}]\n",
    "message = send_messages(messages)"
   ]
  },
  {
   "cell_type": "code",
   "execution_count": 9,
   "id": "13880262-e7bf-4995-bf79-83f5e27e6933",
   "metadata": {
    "execution": {
     "iopub.execute_input": "2025-07-17T13:17:42.386678Z",
     "iopub.status.busy": "2025-07-17T13:17:42.386370Z",
     "iopub.status.idle": "2025-07-17T13:17:42.390776Z",
     "shell.execute_reply": "2025-07-17T13:17:42.389994Z",
     "shell.execute_reply.started": "2025-07-17T13:17:42.386655Z"
    },
    "tags": []
   },
   "outputs": [
    {
     "name": "stdout",
     "output_type": "stream",
     "text": [
      "User>\t How's the weather in Shanghai?\n"
     ]
    }
   ],
   "source": [
    "print(f\"User>\\t {messages[0]['content']}\")"
   ]
  },
  {
   "cell_type": "code",
   "execution_count": 10,
   "id": "4b809848-2d1c-41ea-b6a2-539dff7d80c2",
   "metadata": {
    "execution": {
     "iopub.execute_input": "2025-07-17T13:17:50.790766Z",
     "iopub.status.busy": "2025-07-17T13:17:50.790391Z",
     "iopub.status.idle": "2025-07-17T13:17:50.797970Z",
     "shell.execute_reply": "2025-07-17T13:17:50.797214Z",
     "shell.execute_reply.started": "2025-07-17T13:17:50.790724Z"
    },
    "tags": []
   },
   "outputs": [],
   "source": [
    "tool = message.tool_calls[0]\n",
    "messages.append(message)"
   ]
  },
  {
   "cell_type": "code",
   "execution_count": 11,
   "id": "028b8b66-1ef2-47e5-abf4-5e618d0ccac7",
   "metadata": {
    "execution": {
     "iopub.execute_input": "2025-07-17T13:18:06.169938Z",
     "iopub.status.busy": "2025-07-17T13:18:06.169599Z",
     "iopub.status.idle": "2025-07-17T13:18:06.177477Z",
     "shell.execute_reply": "2025-07-17T13:18:06.176690Z",
     "shell.execute_reply.started": "2025-07-17T13:18:06.169913Z"
    },
    "tags": []
   },
   "outputs": [
    {
     "data": {
      "text/plain": [
       "ChatCompletionMessageToolCall(id='call_e2049988d1a34b599c7051', function=Function(arguments='{\"location\":\"Shanghai\"}', name='get_weather'), type='function', index=0)"
      ]
     },
     "execution_count": 11,
     "metadata": {},
     "output_type": "execute_result"
    }
   ],
   "source": [
    "tool"
   ]
  },
  {
   "cell_type": "code",
   "execution_count": 12,
   "id": "e581bd15-ad55-4f55-b598-b455c6f2b4f0",
   "metadata": {
    "execution": {
     "iopub.execute_input": "2025-07-17T13:18:55.181687Z",
     "iopub.status.busy": "2025-07-17T13:18:55.181372Z",
     "iopub.status.idle": "2025-07-17T13:18:56.340130Z",
     "shell.execute_reply": "2025-07-17T13:18:56.339263Z",
     "shell.execute_reply.started": "2025-07-17T13:18:55.181664Z"
    },
    "tags": []
   },
   "outputs": [
    {
     "name": "stdout",
     "output_type": "stream",
     "text": [
      "Model>\t The weather in Shanghai is currently 24°C.\n"
     ]
    }
   ],
   "source": [
    "# 模拟 search_web 工具调用结果（直接返回24度）\n",
    "messages.append({\"role\": \"tool\", \"tool_call_id\": tool.id, \"content\": \"24℃\"})\n",
    "message = send_messages(messages)\n",
    "print(f\"Model>\\t {message.content}\")"
   ]
  },
  {
   "cell_type": "code",
   "execution_count": null,
   "id": "d3a1aecf-96ac-4122-88ca-a6e1670c8746",
   "metadata": {},
   "outputs": [],
   "source": []
  }
 ],
 "metadata": {
  "kernelspec": {
   "display_name": "Python 3 (ipykernel)",
   "language": "python",
   "name": "python3"
  },
  "language_info": {
   "codemirror_mode": {
    "name": "ipython",
    "version": 3
   },
   "file_extension": ".py",
   "mimetype": "text/x-python",
   "name": "python",
   "nbconvert_exporter": "python",
   "pygments_lexer": "ipython3",
   "version": "3.11.11"
  }
 },
 "nbformat": 4,
 "nbformat_minor": 5
}
